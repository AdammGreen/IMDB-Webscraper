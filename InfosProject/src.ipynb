{
 "cells": [
  {
   "cell_type": "code",
   "execution_count": null,
   "metadata": {},
   "outputs": [],
   "source": [
    "#what is an API:\n",
    "    #An API(Application Programming Interface) is a software that allows two applications to talk to each other. \n",
    "    #in this case it would be between my python notebook and the OMDB website. This allows my notebook (as the client) to connect to\n",
    "    #the websites server and hence retreieve information from it. OMDB is a RESTful server meaning it follows REST (REpresentational State Transfer.) arcitechure. \n",
    "    # Another example of a similar a server would be the familair HTTP architecture. The underlying protocol for REST is actually HTTP but\n",
    "    #they are not one in the same. \n",
    "    #REST is a way to transfer and request sources from one application to another. \n",
    "    #The OMDB website revolves around it being a database of movies and their information that people can access to test their webscraping programs\n",
    "    #and abilities. It is a educational website to some extend and you can support this initiave via patreon\n",
    "    #The OMBD import from pypi is a wrapper with certain predefined requests/functions/classes that can be called which make coding and\n",
    "    #interacting with the OMDB API website easier and more structured. You can call these operations via ombd.\"yourChosenMethod\"\n",
    "\n",
    "\n",
    "#Key details on OMBD API and how it is interacted with:\n",
    "    #The OMDB API is interacted with via an omdb import and API key. The import allows you to connect to the API in your program and the key\n",
    "    #which can be created on the OMDB API website is what validates that you are a legitimate client and can access transfer from their website.\n",
    "    #the API key appears to be a hex code.\n",
    "    #Once you have established a connection to their server, you can then use json to scrape imformation from the database and have it outputted\n",
    "    #onto the client side.\n",
    "    #You can now use this information to your own descretion. You can further open and write the info into a json or txt file and save it\n",
    "    # Making use of dictionaries is also made easier as the info pulled from OMDB API follows a particular format\n",
    "    #You can now use this information and refine it with dictionarys to give more clear and organised outputs\n",
    "\n",
    "#View retrospective section and references at end"
   ]
  },
  {
   "cell_type": "code",
   "execution_count": null,
   "metadata": {},
   "outputs": [],
   "source": [
    "#Adding imports to be able to access their functionalities such as classes etc.\n",
    "#make sure to install on terminal\n",
    "from omdb import OMDBClient\n",
    "import json"
   ]
  },
  {
   "cell_type": "code",
   "execution_count": null,
   "metadata": {},
   "outputs": [],
   "source": [
    "#setting myself/program up as a client(not a server) to the API website with a valid key\n",
    "API_KEY = \"2dd0350e\"\n",
    "client = OMDBClient(apikey=API_KEY)"
   ]
  },
  {
   "cell_type": "code",
   "execution_count": null,
   "metadata": {},
   "outputs": [],
   "source": [
    "#this function allows me to search for a movie\n",
    "def movie_lookup():\n",
    "    user_title = input(\"Plz enter movie name\")\n",
    "    if user_title == \"done\":\n",
    "        exit()\n",
    "    else:\n",
    "       \n",
    "       #edited this out as i believe what i coded below is a better way to extract the data\n",
    "        #response = requests.get(\"http://www.omdbapi.com/?s=\"+user_title+\"&apikey=\"+API_KEY)\n",
    "        #data = response.json()\n",
    "\n",
    "        #this section uses ombd methods to retrieve what the user entered and find it in omdb API\n",
    "        data = client.title(user_title)\n",
    "        \n",
    "        #this then writes opens and writes the output in a json file\n",
    "        with open(\"movies.json\", 'a') as outfile:\n",
    "            outfile.write(json.dumps(data, indent=4)+'\\n')\n",
    "        \n",
    "        #this prints the results found so the user can see their search and the movies information such as cast etc. that is all pulled from ombd API\n",
    "        json_data = json.dumps(data)\n",
    "        print(json_data)\n",
    "\n",
    "#this retrieves and appends the data from the searches and stores it in a list/array in a textfile that can be called upon with previous movie function\n",
    "#currently not in use as i am no longer usimg the textfile and tried to rather use a json file, i kept previous txt file to show it works    \n",
    "    movie_titles = []\n",
    "\n",
    "    for title in movie_titles:\n",
    "        title = user_title\n",
    "        movie_titles.append(title)\n",
    "        print(movie_titles)\n",
    "        fhand = open(\"movies.txt\", \"a\")\n",
    "        fhand.write(data)\n",
    "        fhand.close()\n",
    "\n",
    "    #attempted to display \"Movie not found\" if a movie isnt found in the database or through OMDB\n",
    "    #if response.status_code != 200:\n",
    "        #print(\"Movie not found\")\n",
    "    #else:\n",
    "    #print(data)"
   ]
  },
  {
   "cell_type": "code",
   "execution_count": null,
   "metadata": {},
   "outputs": [],
   "source": [
    "#opens the textfile of movies in order to display previous movies. It then prints this data to the terminal/output section\n",
    "#no longer in use as i tried to use a json file. You can still call it and see my prior results\n",
    "def previous_movies():\n",
    "    data = json.load(open(\"movies.txt\"))\n",
    "    #data = json.loads(\"Title\")\n",
    "    print(type(data), data)"
   ]
  },
  {
   "cell_type": "code",
   "execution_count": null,
   "metadata": {},
   "outputs": [],
   "source": [
    "#infinite loop that allows the program to keep going allowing searchs and previous movies to be shown until the user enters 'done'\n",
    "while True:\n",
    "    user_input = input(\"What would you like to do?\")\n",
    "    if user_input == \"prev\":\n",
    "        previous_movies()\n",
    "    elif user_input == \"done\":\n",
    "        exit()\n",
    "    elif user_input == \"search\":\n",
    "        movie_lookup()\n"
   ]
  },
  {
   "cell_type": "code",
   "execution_count": null,
   "metadata": {},
   "outputs": [],
   "source": [
    "#retrospective section:\n",
    "#json vs textfile\n",
    "        #I figured i'd rather use a jsn method to append data to a .json file, \n",
    "        #however this proved to be difficult as json can hold one object. I tried to make the json file a list and \"carve\" the brackets \n",
    "        #to be able to store more info whilst still being one object but this didn't work as planned.\n",
    "        #From there i would have added a dictionary to make the info more simple\n",
    "        #i believe a json file would work better than a textfile as the use of dictionarys, non-repeditive results and \n",
    "        #calling in the information would have been more simple in my opinion. However i could not figure out how to store data into the\n",
    "        #json file without corrupting it.\n",
    "#improvements i could have made:\n",
    "       #I could have chosen the method to use a textfile and make that work more effectively but i rather chose against that and didnt manage\n",
    "       #to make it work. With the textfile i was running into issues with the dictionary and making that work as well as have non-repeating previous\n",
    "       #previous search results\n",
    "       # i could have used a dictionary as to not make my program spit out long strings of unrefined text\n",
    "       #If my program worked properly I would have linked the gui ('tinkertest.py') i created to have a better user interface.\n",
    "       #this would be more user friendly than typing into the terminal.\n",
    "#Struggles i had and how i overcame them:\n",
    "        #intially i didnt understand how an API worked (even though i thought i did) and struggled to get my connection and API key working\n",
    "        #i later figured out that i was a client and not a server and managed to make the process work.\n",
    "        #I also struglled with the search function and reading and writing to a json file.\n",
    "        #I did research around json and json dumps and figured out to append (not write) to a json file and make that work\n",
    "        # When i was using a textfile, I also struggled on how to make the movies into a list from which they could be called.\n",
    "        # i used w3 schools to further understand lists and from there i managed to make it work\n",
    "        # i did struglle with the previous movie section as you could just read the list but i did struggle to link a dictionary, refined it\n",
    "        # and make it non repeditive.\n",
    "\n",
    "\n",
    "\n",
    "        "
   ]
  },
  {
   "cell_type": "code",
   "execution_count": null,
   "metadata": {},
   "outputs": [],
   "source": [
    "#references:\n",
    "    #I watched a lot of videos from a youtube channel called 'Learn Python'\n",
    "    #I read and watched videos on the 'geeksforgeeks.com' website\n",
    "    #I viewed github and stackoverflow but didnt find much help\n",
    "    #I learned some methods from 'w3schools.com'\n",
    "    #I also researched API's and looked over omdb on pypi and saw how it could be implememented\n",
    "   "
   ]
  }
 ],
 "metadata": {
  "language_info": {
   "name": "python"
  },
  "orig_nbformat": 4
 },
 "nbformat": 4,
 "nbformat_minor": 2
}
